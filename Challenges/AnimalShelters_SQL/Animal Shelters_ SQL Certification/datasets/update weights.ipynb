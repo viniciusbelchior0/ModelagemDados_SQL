{
 "cells": [
  {
   "cell_type": "code",
   "execution_count": 27,
   "id": "de315776",
   "metadata": {},
   "outputs": [],
   "source": [
    "import pandas as pd\n",
    "df = pd.read_csv('animal_data.csv')"
   ]
  },
  {
   "cell_type": "code",
   "execution_count": 28,
   "id": "762100b3",
   "metadata": {},
   "outputs": [],
   "source": [
    "df.loc[(df.animaltype == 'Dog') & ((df.weight == 10) | (df.weight == 30)), 'weight'] = \\\n",
    "    df.loc[(df.animaltype == 'Dog') & ((df.weight == 10) | (df.weight == 30)), 'weight'] +1.5"
   ]
  },
  {
   "cell_type": "code",
   "execution_count": 29,
   "id": "3844fd82",
   "metadata": {},
   "outputs": [],
   "source": [
    "df.loc[(df.animaltype == 'Cat') & ((df.weight == 5) | (df.weight == 7)), 'weight'] = \\\n",
    "    df.loc[(df.animaltype == 'Cat') & ((df.weight == 5) | (df.weight == 7)), 'weight'] + 1.5"
   ]
  },
  {
   "cell_type": "code",
   "execution_count": 30,
   "id": "5742602b",
   "metadata": {},
   "outputs": [],
   "source": [
    "df.loc[(df.animaltype == 'Bird') & ((df.weight == 0.7) | (df.weight == 1.1)), 'weight'] = \\\n",
    "    df.loc[(df.animaltype == 'Bird') & ((df.weight == 0.7) | (df.weight == 1.1)), 'weight'] + 0.1"
   ]
  },
  {
   "cell_type": "code",
   "execution_count": 31,
   "id": "57ab5560",
   "metadata": {},
   "outputs": [
    {
     "data": {
      "text/html": [
       "<div>\n",
       "<style scoped>\n",
       "    .dataframe tbody tr th:only-of-type {\n",
       "        vertical-align: middle;\n",
       "    }\n",
       "\n",
       "    .dataframe tbody tr th {\n",
       "        vertical-align: top;\n",
       "    }\n",
       "\n",
       "    .dataframe thead th {\n",
       "        text-align: right;\n",
       "    }\n",
       "</style>\n",
       "<table border=\"1\" class=\"dataframe\">\n",
       "  <thead>\n",
       "    <tr style=\"text-align: right;\">\n",
       "      <th></th>\n",
       "      <th>animalid</th>\n",
       "      <th>birthdate</th>\n",
       "      <th>animaltype</th>\n",
       "      <th>color</th>\n",
       "      <th>weight</th>\n",
       "      <th>location</th>\n",
       "    </tr>\n",
       "  </thead>\n",
       "  <tbody>\n",
       "  </tbody>\n",
       "</table>\n",
       "</div>"
      ],
      "text/plain": [
       "Empty DataFrame\n",
       "Columns: [animalid, birthdate, animaltype, color, weight, location]\n",
       "Index: []"
      ]
     },
     "execution_count": 31,
     "metadata": {},
     "output_type": "execute_result"
    }
   ],
   "source": [
    "df.loc[(df.animaltype == 'Dog') & ((df.weight == 10) | (df.weight == 30))]"
   ]
  },
  {
   "cell_type": "code",
   "execution_count": 32,
   "id": "7a291006",
   "metadata": {},
   "outputs": [
    {
     "data": {
      "text/html": [
       "<div>\n",
       "<style scoped>\n",
       "    .dataframe tbody tr th:only-of-type {\n",
       "        vertical-align: middle;\n",
       "    }\n",
       "\n",
       "    .dataframe tbody tr th {\n",
       "        vertical-align: top;\n",
       "    }\n",
       "\n",
       "    .dataframe thead th {\n",
       "        text-align: right;\n",
       "    }\n",
       "</style>\n",
       "<table border=\"1\" class=\"dataframe\">\n",
       "  <thead>\n",
       "    <tr style=\"text-align: right;\">\n",
       "      <th></th>\n",
       "      <th>animalid</th>\n",
       "      <th>birthdate</th>\n",
       "      <th>animaltype</th>\n",
       "      <th>color</th>\n",
       "      <th>weight</th>\n",
       "      <th>location</th>\n",
       "    </tr>\n",
       "  </thead>\n",
       "  <tbody>\n",
       "  </tbody>\n",
       "</table>\n",
       "</div>"
      ],
      "text/plain": [
       "Empty DataFrame\n",
       "Columns: [animalid, birthdate, animaltype, color, weight, location]\n",
       "Index: []"
      ]
     },
     "execution_count": 32,
     "metadata": {},
     "output_type": "execute_result"
    }
   ],
   "source": [
    "df.loc[(df.animaltype == 'Cat') & ((df.weight == 5) | (df.weight == 7))]"
   ]
  },
  {
   "cell_type": "code",
   "execution_count": 33,
   "id": "90dd6027",
   "metadata": {},
   "outputs": [
    {
     "data": {
      "text/html": [
       "<div>\n",
       "<style scoped>\n",
       "    .dataframe tbody tr th:only-of-type {\n",
       "        vertical-align: middle;\n",
       "    }\n",
       "\n",
       "    .dataframe tbody tr th {\n",
       "        vertical-align: top;\n",
       "    }\n",
       "\n",
       "    .dataframe thead th {\n",
       "        text-align: right;\n",
       "    }\n",
       "</style>\n",
       "<table border=\"1\" class=\"dataframe\">\n",
       "  <thead>\n",
       "    <tr style=\"text-align: right;\">\n",
       "      <th></th>\n",
       "      <th>animalid</th>\n",
       "      <th>birthdate</th>\n",
       "      <th>animaltype</th>\n",
       "      <th>color</th>\n",
       "      <th>weight</th>\n",
       "      <th>location</th>\n",
       "    </tr>\n",
       "  </thead>\n",
       "  <tbody>\n",
       "  </tbody>\n",
       "</table>\n",
       "</div>"
      ],
      "text/plain": [
       "Empty DataFrame\n",
       "Columns: [animalid, birthdate, animaltype, color, weight, location]\n",
       "Index: []"
      ]
     },
     "execution_count": 33,
     "metadata": {},
     "output_type": "execute_result"
    }
   ],
   "source": [
    "df.loc[(df.animaltype == 'Bird') & ((df.weight == 0.7) | (df.weight == 1.1))]"
   ]
  },
  {
   "cell_type": "code",
   "execution_count": 34,
   "id": "0d5b2f3e",
   "metadata": {},
   "outputs": [],
   "source": [
    "df.to_csv('animal_data.csv', index=False)"
   ]
  },
  {
   "cell_type": "code",
   "execution_count": null,
   "id": "a89fe539",
   "metadata": {},
   "outputs": [],
   "source": []
  }
 ],
 "metadata": {
  "kernelspec": {
   "display_name": "Python 3 (ipykernel)",
   "language": "python",
   "name": "python3"
  },
  "language_info": {
   "codemirror_mode": {
    "name": "ipython",
    "version": 3
   },
   "file_extension": ".py",
   "mimetype": "text/x-python",
   "name": "python",
   "nbconvert_exporter": "python",
   "pygments_lexer": "ipython3",
   "version": "3.9.6"
  }
 },
 "nbformat": 4,
 "nbformat_minor": 5
}
